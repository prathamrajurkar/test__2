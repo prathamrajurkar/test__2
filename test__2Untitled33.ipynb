{
 "cells": [
  {
   "cell_type": "markdown",
   "id": "c367fe8a-d92e-4121-8c22-1e4e7fd984cb",
   "metadata": {},
   "source": [
    " ### Find the 2nd largest and 2nd smallest element in a list."
   ]
  },
  {
   "cell_type": "code",
   "execution_count": 2,
   "id": "c9dc9567-d4c7-4480-a521-e4726976c3d0",
   "metadata": {},
   "outputs": [
    {
     "name": "stdout",
     "output_type": "stream",
     "text": [
      "2\n",
      "54\n"
     ]
    }
   ],
   "source": [
    "lst=[1,2,3,54,8,3,58,8]\n",
    "lst.sort()\n",
    "secound_smalestnum=lst[1]\n",
    "secound_largestnum=lst[-2]\n",
    "print(secound_smalestnum)\n",
    "print(secound_largestnum)"
   ]
  },
  {
   "cell_type": "markdown",
   "id": "d99d169b-a162-4e59-8ded-4032c50e9c0a",
   "metadata": {},
   "source": [
    "### Find the key with the largest value in a dictionary."
   ]
  },
  {
   "cell_type": "code",
   "execution_count": 7,
   "id": "c9453cd2-2f0c-403d-97f0-071eca68f5a5",
   "metadata": {},
   "outputs": [
    {
     "name": "stdout",
     "output_type": "stream",
     "text": [
      "max key= b\n"
     ]
    }
   ],
   "source": [
    "dict={\"a\": 10, \"b\": 25, \"c\": 7, \"d\": 18}\n",
    "\n",
    "max_key=max(dict,key=dict.get)\n",
    "print(\"max key=\",max_key)"
   ]
  },
  {
   "cell_type": "markdown",
   "id": "669baaac-26f7-4786-9df8-6deeac911239",
   "metadata": {},
   "source": [
    "### Create a new folder using os module and create a file inside it.f"
   ]
  },
  {
   "cell_type": "code",
   "execution_count": 10,
   "id": "87f92510-6c42-4803-b8ad-900aa1b8cb35",
   "metadata": {},
   "outputs": [
    {
     "name": "stdout",
     "output_type": "stream",
     "text": [
      "done\n"
     ]
    }
   ],
   "source": [
    "import os\n",
    "os.mkdir(\"MyFoldeer\")\n",
    "\n",
    "f = open(\"MyFoldeer/myfile.txt\", \"w\")\n",
    "f.write(\"Hello!\")                     \n",
    "f.close()\n",
    "\n",
    "print(\"done\")"
   ]
  },
  {
   "cell_type": "markdown",
   "id": "9ded1111-9000-452e-9bb9-e7591981b90f",
   "metadata": {},
   "source": [
    "###  Write a recursive function to calculate Fibonacci series up to n terms."
   ]
  },
  {
   "cell_type": "code",
   "execution_count": 13,
   "id": "af64904a-4c2d-49e1-ba8e-5cd4ee89a3b3",
   "metadata": {},
   "outputs": [
    {
     "name": "stdout",
     "output_type": "stream",
     "text": [
      "0 1 1 2 3 5 8 13 21 34 55 89 144 233 377 610 987 1597 2584 4181 6765 10946 17711 28657 46368 "
     ]
    }
   ],
   "source": [
    "def fibonacci(n):\n",
    "    if n <= 1:   \n",
    "        return n\n",
    "    else:\n",
    "        return fibonacci(n-1) + fibonacci(n-2)\n",
    "\n",
    "for i in range(25):\n",
    "    print(fibonacci(i), end=\" \")"
   ]
  },
  {
   "cell_type": "markdown",
   "id": "1418a594-1a92-4c2c-bf9f-0e4b157325ec",
   "metadata": {},
   "source": [
    "### 5. Use a lambda with map() to convert a list of integers into their cubes. \n"
   ]
  },
  {
   "cell_type": "code",
   "execution_count": 14,
   "id": "d3dcd57b-6018-4034-a4ee-26d88df74082",
   "metadata": {},
   "outputs": [
    {
     "name": "stdout",
     "output_type": "stream",
     "text": [
      "[1, 8, 27, 64, 125]\n"
     ]
    }
   ],
   "source": [
    "numbers = [1, 2, 3, 4, 5]\n",
    "\n",
    "cubes = list(map(lambda x: x**3, numbers))\n",
    "print(cubes)"
   ]
  },
  {
   "cell_type": "markdown",
   "id": "28bff384-97b0-4412-86b8-cd972d8cfb8e",
   "metadata": {},
   "source": [
    "### 6. Create a class Employee that increases salary by 10%"
   ]
  },
  {
   "cell_type": "markdown",
   "id": "003ccf84-9b18-4ba9-bf97-931ca4d309d5",
   "metadata": {},
   "source": [
    "class Employee:\n",
    "    def __init__(self,name,salary):\n",
    "        self.name=name\n",
    "        self.salary=salary\n",
    "\n",
    "    def increase_salary(self):\n",
    "        self.salary = self.salary + (self.salary *0.1)\n",
    "\n",
    "emp=Employee(\"Pratham\",100000)\n",
    "print(\"Before:\", emp.salary)\n",
    "\n",
    "emp.increase_salary()\n",
    "print(\"After\",emp.salary)\n",
    "    "
   ]
  },
  {
   "cell_type": "markdown",
   "id": "bfcecfac-4585-4154-9fb5-88641f9a1f5f",
   "metadata": {},
   "source": [
    "### 7. Write a program to print the date 30 days from today. "
   ]
  },
  {
   "cell_type": "code",
   "execution_count": 16,
   "id": "8456a19a-6ec5-4121-b428-263f099a8444",
   "metadata": {},
   "outputs": [
    {
     "name": "stdout",
     "output_type": "stream",
     "text": [
      "Today: 2025-09-16\n",
      "30 days from today: 2025-10-16\n"
     ]
    }
   ],
   "source": [
    "from datetime import date, timedelta\n",
    "\n",
    "today = date.today()\n",
    "print(\"Today:\", today)\n",
    "\n",
    "future_date = today + timedelta(days=30)\n",
    "print(\"30 days from today:\", future_date)"
   ]
  },
  {
   "cell_type": "markdown",
   "id": "e732db19-a6ce-4882-aafa-37923bfd4849",
   "metadata": {},
   "source": [
    "###  Write a program to convert radians to degrees and vice versa"
   ]
  },
  {
   "cell_type": "code",
   "execution_count": 17,
   "id": "01c222bd-ffae-4879-8be4-b60b22e627c4",
   "metadata": {},
   "outputs": [
    {
     "name": "stdout",
     "output_type": "stream",
     "text": [
      "Radians to Degrees: 180.0\n",
      "Degrees to Radians: 3.141592653589793\n"
     ]
    }
   ],
   "source": [
    "import math\n",
    "\n",
    "radians = math.pi   \n",
    "degrees = math.degrees(radians)\n",
    "print(\"Radians to Degrees:\", degrees)\n",
    "\n",
    "deg = 180          \n",
    "rads = math.radians(deg)\n",
    "print(\"Degrees to Radians:\", rads)"
   ]
  },
  {
   "cell_type": "code",
   "execution_count": 23,
   "id": "2ad29668-3173-440a-a1b3-ffcd41f3f8e3",
   "metadata": {},
   "outputs": [
    {
     "data": {
      "text/plain": [
       "179.9087476710785"
      ]
     },
     "execution_count": 23,
     "metadata": {},
     "output_type": "execute_result"
    }
   ],
   "source": [
    "math.degrees(3.14)"
   ]
  }
 ],
 "metadata": {
  "kernelspec": {
   "display_name": "Python [conda env:base] *",
   "language": "python",
   "name": "conda-base-py"
  },
  "language_info": {
   "codemirror_mode": {
    "name": "ipython",
    "version": 3
   },
   "file_extension": ".py",
   "mimetype": "text/x-python",
   "name": "python",
   "nbconvert_exporter": "python",
   "pygments_lexer": "ipython3",
   "version": "3.13.5"
  }
 },
 "nbformat": 4,
 "nbformat_minor": 5
}
